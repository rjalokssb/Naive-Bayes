{
  "nbformat": 4,
  "nbformat_minor": 0,
  "metadata": {
    "colab": {
      "provenance": []
    },
    "kernelspec": {
      "name": "python3",
      "display_name": "Python 3"
    },
    "language_info": {
      "name": "python"
    }
  },
  "cells": [
    {
      "cell_type": "markdown",
      "source": [
        "Q1. A company conducted a survey of its employees and found that 70% of the employees use the\n",
        "company's health insurance plan, while 40% of the employees who use the plan are smokers. What is the\n",
        "probability that an employee is a smoker given that he/she uses the health insurance plan?"
      ],
      "metadata": {
        "id": "6k1ghHv7WDis"
      }
    },
    {
      "cell_type": "code",
      "source": [
        "P(S|H) = P(H|S) * P(S) / P(H) = (0.4 * 0.7 / 0.34) / 0.7 = 0.82 (rounded to two decimal places)"
      ],
      "metadata": {
        "id": "H3ZBkqvvWNU6"
      },
      "execution_count": null,
      "outputs": []
    },
    {
      "cell_type": "markdown",
      "source": [
        "Q2. What is the difference between Bernoulli Naive Bayes and Multinomial Naive Bayes?"
      ],
      "metadata": {
        "id": "skZPmkeRWEpa"
      }
    },
    {
      "cell_type": "code",
      "source": [
        "# Bernoulli Naive Bayes, the features are binary variables, indicating whether a particular feature is present or absent in the input data.\n",
        "#  Multinomial Naive Bayes is used for problems where the features are counts or frequencies of events. This is often used for text classification, "
      ],
      "metadata": {
        "id": "ZqbJsU4RWNri"
      },
      "execution_count": null,
      "outputs": []
    },
    {
      "cell_type": "markdown",
      "source": [
        "Q3. How does Bernoulli Naive Bayes handle missing values?"
      ],
      "metadata": {
        "id": "Vip4cD6ZWG_8"
      }
    },
    {
      "cell_type": "code",
      "source": [
        "# Bernoulli Naive Bayes assumes that the input data is a binary vector, where each feature is either present (1) or absent (0). If a particular feature is missing, it is typically handled by assigning a default value, such as 0 or the mean/median value of the feature, depending on the context."
      ],
      "metadata": {
        "id": "c7olPzRHWOFa"
      },
      "execution_count": null,
      "outputs": []
    },
    {
      "cell_type": "markdown",
      "source": [
        "Q4. Can Gaussian Naive Bayes be used for multi-class classification?"
      ],
      "metadata": {
        "id": "GcO4xcBNWIsK"
      }
    },
    {
      "cell_type": "code",
      "source": [
        "# To perform multi-class classification, the model can be extended to include multiple Gaussian distributions for each feature, corresponding to each class label."
      ],
      "metadata": {
        "id": "vHwSCZHMWOcC"
      },
      "execution_count": null,
      "outputs": []
    },
    {
      "cell_type": "markdown",
      "source": [
        "Q5. Assignment:"
      ],
      "metadata": {
        "id": "PvQu7z_JWKyy"
      }
    },
    {
      "cell_type": "code",
      "execution_count": null,
      "metadata": {
        "id": "huzHbtGyV-rC"
      },
      "outputs": [],
      "source": []
    }
  ]
}