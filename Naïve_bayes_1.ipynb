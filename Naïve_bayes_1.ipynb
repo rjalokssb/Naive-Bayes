{
  "nbformat": 4,
  "nbformat_minor": 0,
  "metadata": {
    "colab": {
      "provenance": []
    },
    "kernelspec": {
      "name": "python3",
      "display_name": "Python 3"
    },
    "language_info": {
      "name": "python"
    }
  },
  "cells": [
    {
      "cell_type": "markdown",
      "source": [
        "Q1. What is Bayes' theorem?"
      ],
      "metadata": {
        "id": "mnPY8v21R-9W"
      }
    },
    {
      "cell_type": "code",
      "source": [
        "# Bayes' theorem is a mathematical formula that describes the probability of an event occurring based on prior knowledge or information about related events. "
      ],
      "metadata": {
        "id": "UStJQks5SiOi"
      },
      "execution_count": null,
      "outputs": []
    },
    {
      "cell_type": "markdown",
      "source": [
        "Q2. What is the formula for Bayes' theorem?"
      ],
      "metadata": {
        "id": "G5tSjxZYSByr"
      }
    },
    {
      "cell_type": "code",
      "source": [
        "# P(A|B) = (P(B|A) * P(A)) / P(B)\n",
        "\n",
        "Where:\n",
        "\n",
        "P(A|B) is the probability of event A occurring given that event B has occurred.\n",
        "P(B|A) is the probability of event B occurring given that event A has occurred.\n",
        "P(A) is the prior probability of event A occurring.\n",
        "P(B) is the prior probability of event B occurring."
      ],
      "metadata": {
        "id": "M8P0JdF0SjXN"
      },
      "execution_count": null,
      "outputs": []
    },
    {
      "cell_type": "markdown",
      "source": [
        "Q3. How is Bayes' theorem used in practice?"
      ],
      "metadata": {
        "id": "o3piO5i1SDrV"
      }
    },
    {
      "cell_type": "code",
      "source": [
        "# Medical diagnosis: Bayes' \n",
        "# Spam filtering: Bayes\n",
        "# Stock market analysis: "
      ],
      "metadata": {
        "id": "pASy46mJSjom"
      },
      "execution_count": null,
      "outputs": []
    },
    {
      "cell_type": "markdown",
      "source": [
        "Q4. What is the relationship between Bayes' theorem and conditional probability?"
      ],
      "metadata": {
        "id": "fDRz_xwlSGL9"
      }
    },
    {
      "cell_type": "code",
      "source": [
        "# Bayes' theorem is closely related to conditional probability. In fact, Bayes' theorem is a way to calculate conditional probability when we have information about related events."
      ],
      "metadata": {
        "id": "IYzpBIPhSkEf"
      },
      "execution_count": null,
      "outputs": []
    },
    {
      "cell_type": "markdown",
      "source": [
        "Q5. How do you choose which type of Naive Bayes classifier to use for any given problem?"
      ],
      "metadata": {
        "id": "zhRMdw2lSLpN"
      }
    },
    {
      "cell_type": "code",
      "execution_count": null,
      "metadata": {
        "id": "ys3E46AJR2hT"
      },
      "outputs": [],
      "source": [
        "# Gaussian Naive Bayes- features is assumed to be Gaussian\n",
        "# Multinomial Naive Bayes -  multinomially distributed data\n",
        "#  Bernoulli Naive Bayes- implements the naive Bayes training and classification algorithms for data that is distributed according to multivariate Bernoulli distributions"
      ]
    }
  ]
}